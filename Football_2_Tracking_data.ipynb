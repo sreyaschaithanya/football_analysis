{
  "nbformat": 4,
  "nbformat_minor": 0,
  "metadata": {
    "colab": {
      "name": "Football-2. Tracking data.ipynb",
      "provenance": [],
      "mount_file_id": "1qmSEgEfOIZPiS3jxYTOTUpZNpJnSdtEC",
      "authorship_tag": "ABX9TyPdTfF7Wqjmu+fbb/dd+20F",
      "include_colab_link": true
    },
    "kernelspec": {
      "name": "python3",
      "display_name": "Python 3"
    }
  },
  "cells": [
    {
      "cell_type": "markdown",
      "metadata": {
        "id": "view-in-github",
        "colab_type": "text"
      },
      "source": [
        "<a href=\"https://colab.research.google.com/github/sreyaschaithanya/football_analysis/blob/main/Football_2_Tracking_data.ipynb\" target=\"_parent\"><img src=\"https://colab.research.google.com/assets/colab-badge.svg\" alt=\"Open In Colab\"/></a>"
      ]
    },
    {
      "cell_type": "code",
      "metadata": {
        "colab": {
          "base_uri": "https://localhost:8080/"
        },
        "id": "S6tMkCZdxZ1v",
        "outputId": "9370e7b7-5c69-42f5-ab70-3b15b2d5f51e"
      },
      "source": [
        "from google.colab import drive\n",
        "drive.mount('/content/drive')\n",
        "DATA_PATH = \"/content/drive/My Drive/Football/tracking-data/data/\"\n",
        "MATCHES_PATH = DATA_PATH+\"matches/\""
      ],
      "execution_count": null,
      "outputs": [
        {
          "output_type": "stream",
          "text": [
            "Drive already mounted at /content/drive; to attempt to forcibly remount, call drive.mount(\"/content/drive\", force_remount=True).\n"
          ],
          "name": "stdout"
        }
      ]
    },
    {
      "cell_type": "code",
      "metadata": {
        "id": "pGB4F8zTyQD-"
      },
      "source": [
        "import pandas as pd\n",
        "import json\n",
        "import pprint\n",
        "import math\n",
        "import matplotlib.animation as animation"
      ],
      "execution_count": null,
      "outputs": []
    },
    {
      "cell_type": "code",
      "metadata": {
        "colab": {
          "base_uri": "https://localhost:8080/"
        },
        "id": "hN-5cy9fHSZ6",
        "outputId": "7c154323-61af-4737-900a-2d7f6a1a5b51"
      },
      "source": [
        "rawEvents = pd.read_csv(DATA_PATH+\"Sample_Game_2/Sample_Game_2_RawEventsData.csv\")\n",
        "rawHome = pd.read_csv(DATA_PATH+\"Sample_Game_2/Sample_Game_2_RawTrackingData_Away_Team.csv\")\n",
        "rawAway = pd.read_csv(DATA_PATH+\"Sample_Game_2/Sample_Game_2_RawTrackingData_Home_Team.csv\")"
      ],
      "execution_count": null,
      "outputs": [
        {
          "output_type": "stream",
          "text": [
            "/usr/local/lib/python3.6/dist-packages/IPython/core/interactiveshell.py:2718: DtypeWarning: Columns (0,1,2,3,5,7,9,11,13,15,17,19,21,23,25,27) have mixed types.Specify dtype option on import or set low_memory=False.\n",
            "  interactivity=interactivity, compiler=compiler, result=result)\n",
            "/usr/local/lib/python3.6/dist-packages/IPython/core/interactiveshell.py:2718: DtypeWarning: Columns (0,1,2,3,5,7,9,11,13,15,17,19,21,23,25,27,29,31) have mixed types.Specify dtype option on import or set low_memory=False.\n",
            "  interactivity=interactivity, compiler=compiler, result=result)\n"
          ],
          "name": "stderr"
        }
      ]
    },
    {
      "cell_type": "code",
      "metadata": {
        "id": "S_qP-s5oE4sU"
      },
      "source": [
        "#!/usr/bin/env python3\n",
        "# -*- coding: utf-8 -*-\n",
        "\"\"\"\n",
        "Created on Wed Mar 25 17:32:00 2020\n",
        "\n",
        "@author: davsu428\n",
        "\"\"\"\n",
        "import matplotlib.pyplot as plt\n",
        "from matplotlib.patches import Arc\n",
        "\n",
        "def createPitch(length,width, unity,linecolor): # in meters\n",
        "    # Code by @JPJ_dejong\n",
        "\n",
        "    \"\"\"\n",
        "    creates a plot in which the 'length' is the length of the pitch (goal to goal).\n",
        "    And 'width' is the width of the pitch (sideline to sideline). \n",
        "    Fill in the unity in meters or in yards.\n",
        "\n",
        "    \"\"\"\n",
        "    #Set unity\n",
        "    if unity == \"meters\":\n",
        "        # Set boundaries\n",
        "        if length >= 120.5 or width >= 75.5:\n",
        "            return(str(\"Field dimensions are too big for meters as unity, didn't you mean yards as unity?\\\n",
        "                       Otherwise the maximum length is 120 meters and the maximum width is 75 meters. Please try again\"))\n",
        "        #Run program if unity and boundaries are accepted\n",
        "        else:\n",
        "            #Create figure\n",
        "            fig=plt.figure()\n",
        "            #fig.set_size_inches(7, 5)\n",
        "            ax=fig.add_subplot(1,1,1)\n",
        "           \n",
        "            #Pitch Outline & Centre Line\n",
        "            plt.plot([0,0],[0,width], color=linecolor)\n",
        "            plt.plot([0,length],[width,width], color=linecolor)\n",
        "            plt.plot([length,length],[width,0], color=linecolor)\n",
        "            plt.plot([length,0],[0,0], color=linecolor)\n",
        "            plt.plot([length/2,length/2],[0,width], color=linecolor)\n",
        "            \n",
        "            #Left Penalty Area\n",
        "            plt.plot([16.5 ,16.5],[(width/2 +16.5),(width/2-16.5)],color=linecolor)\n",
        "            plt.plot([0,16.5],[(width/2 +16.5),(width/2 +16.5)],color=linecolor)\n",
        "            plt.plot([16.5,0],[(width/2 -16.5),(width/2 -16.5)],color=linecolor)\n",
        "            \n",
        "            #Right Penalty Area\n",
        "            plt.plot([(length-16.5),length],[(width/2 +16.5),(width/2 +16.5)],color=linecolor)\n",
        "            plt.plot([(length-16.5), (length-16.5)],[(width/2 +16.5),(width/2-16.5)],color=linecolor)\n",
        "            plt.plot([(length-16.5),length],[(width/2 -16.5),(width/2 -16.5)],color=linecolor)\n",
        "            \n",
        "            #Left 5-meters Box\n",
        "            plt.plot([0,5.5],[(width/2+7.32/2+5.5),(width/2+7.32/2+5.5)],color=linecolor)\n",
        "            plt.plot([5.5,5.5],[(width/2+7.32/2+5.5),(width/2-7.32/2-5.5)],color=linecolor)\n",
        "            plt.plot([5.5,0.5],[(width/2-7.32/2-5.5),(width/2-7.32/2-5.5)],color=linecolor)\n",
        "            \n",
        "            #Right 5 -eters Box\n",
        "            plt.plot([length,length-5.5],[(width/2+7.32/2+5.5),(width/2+7.32/2+5.5)],color=linecolor)\n",
        "            plt.plot([length-5.5,length-5.5],[(width/2+7.32/2+5.5),width/2-7.32/2-5.5],color=linecolor)\n",
        "            plt.plot([length-5.5,length],[width/2-7.32/2-5.5,width/2-7.32/2-5.5],color=linecolor)\n",
        "            \n",
        "            #Prepare Circles\n",
        "            centreCircle = plt.Circle((length/2,width/2),9.15,color=linecolor,fill=False)\n",
        "            centreSpot = plt.Circle((length/2,width/2),0.8,color=linecolor)\n",
        "            leftPenSpot = plt.Circle((11,width/2),0.8,color=linecolor)\n",
        "            rightPenSpot = plt.Circle((length-11,width/2),0.8,color=linecolor)\n",
        "            \n",
        "            #Draw Circles\n",
        "            ax.add_patch(centreCircle)\n",
        "            ax.add_patch(centreSpot)\n",
        "            ax.add_patch(leftPenSpot)\n",
        "            ax.add_patch(rightPenSpot)\n",
        "            \n",
        "            #Prepare Arcs\n",
        "            leftArc = Arc((11,width/2),height=18.3,width=18.3,angle=0,theta1=308,theta2=52,color=linecolor)\n",
        "            rightArc = Arc((length-11,width/2),height=18.3,width=18.3,angle=0,theta1=128,theta2=232,color=linecolor)\n",
        "            \n",
        "            #Draw Arcs\n",
        "            ax.add_patch(leftArc)\n",
        "            ax.add_patch(rightArc)\n",
        "            #Axis titles\n",
        "\n",
        "    #check unity again\n",
        "    elif unity == \"yards\":\n",
        "        #check boundaries again\n",
        "        if length <= 95:\n",
        "            return(str(\"Didn't you mean meters as unity?\"))\n",
        "        elif length >= 131 or width >= 101:\n",
        "            return(str(\"Field dimensions are too big. Maximum length is 130, maximum width is 100\"))\n",
        "        #Run program if unity and boundaries are accepted\n",
        "        else:\n",
        "            #Create figure\n",
        "            fig=plt.figure()\n",
        "            #fig.set_size_inches(7, 5)\n",
        "            ax=fig.add_subplot(1,1,1)\n",
        "           \n",
        "            #Pitch Outline & Centre Line\n",
        "            plt.plot([0,0],[0,width], color=linecolor)\n",
        "            plt.plot([0,length],[width,width], color=linecolor)\n",
        "            plt.plot([length,length],[width,0], color=linecolor)\n",
        "            plt.plot([length,0],[0,0], color=linecolor)\n",
        "            plt.plot([length/2,length/2],[0,width], color=linecolor)\n",
        "            \n",
        "            #Left Penalty Area\n",
        "            plt.plot([18 ,18],[(width/2 +18),(width/2-18)],color=linecolor)\n",
        "            plt.plot([0,18],[(width/2 +18),(width/2 +18)],color=linecolor)\n",
        "            plt.plot([18,0],[(width/2 -18),(width/2 -18)],color=linecolor)\n",
        "            \n",
        "            #Right Penalty Area\n",
        "            plt.plot([(length-18),length],[(width/2 +18),(width/2 +18)],color=linecolor)\n",
        "            plt.plot([(length-18), (length-18)],[(width/2 +18),(width/2-18)],color=linecolor)\n",
        "            plt.plot([(length-18),length],[(width/2 -18),(width/2 -18)],color=linecolor)\n",
        "            \n",
        "            #Left 6-yard Box\n",
        "            plt.plot([0,6],[(width/2+7.32/2+6),(width/2+7.32/2+6)],color=linecolor)\n",
        "            plt.plot([6,6],[(width/2+7.32/2+6),(width/2-7.32/2-6)],color=linecolor)\n",
        "            plt.plot([6,0],[(width/2-7.32/2-6),(width/2-7.32/2-6)],color=linecolor)\n",
        "            \n",
        "            #Right 6-yard Box\n",
        "            plt.plot([length,length-6],[(width/2+7.32/2+6),(width/2+7.32/2+6)],color=linecolor)\n",
        "            plt.plot([length-6,length-6],[(width/2+7.32/2+6),width/2-7.32/2-6],color=linecolor)\n",
        "            plt.plot([length-6,length],[(width/2-7.32/2-6),width/2-7.32/2-6],color=linecolor)\n",
        "            \n",
        "            #Prepare Circles; 10 yards distance. penalty on 12 yards\n",
        "            centreCircle = plt.Circle((length/2,width/2),10,color=linecolor,fill=False)\n",
        "            centreSpot = plt.Circle((length/2,width/2),0.8,color=linecolor)\n",
        "            leftPenSpot = plt.Circle((12,width/2),0.8,color=linecolor)\n",
        "            rightPenSpot = plt.Circle((length-12,width/2),0.8,color=linecolor)\n",
        "            \n",
        "            #Draw Circles\n",
        "            ax.add_patch(centreCircle)\n",
        "            ax.add_patch(centreSpot)\n",
        "            ax.add_patch(leftPenSpot)\n",
        "            ax.add_patch(rightPenSpot)\n",
        "            \n",
        "            #Prepare Arcs\n",
        "            leftArc = Arc((11,width/2),height=20,width=20,angle=0,theta1=312,theta2=48,color=linecolor)\n",
        "            rightArc = Arc((length-11,width/2),height=20,width=20,angle=0,theta1=130,theta2=230,color=linecolor)\n",
        "            \n",
        "            #Draw Arcs\n",
        "            ax.add_patch(leftArc)\n",
        "            ax.add_patch(rightArc)\n",
        "                \n",
        "    #Tidy Axes\n",
        "    plt.axis('off')\n",
        "    \n",
        "    return fig,ax\n",
        "\n",
        "\n",
        "def createPitchOld():\n",
        "    #Taken from FC Python        \n",
        "    #Create figure\n",
        "    fig=plt.figure()\n",
        "    ax=fig.add_subplot(1,1,1)\n",
        "\n",
        "    #Pitch Outline & Centre Line\n",
        "    plt.plot([0,0],[0,90], color=linecolor)\n",
        "    plt.plot([0,130],[90,90], color=linecolor)\n",
        "    plt.plot([130,130],[90,0], color=linecolor)\n",
        "    plt.plot([130,0],[0,0], color=linecolor)\n",
        "    plt.plot([65,65],[0,90], color=linecolor)\n",
        "    \n",
        "    #Left Penalty Area\n",
        "    plt.plot([16.5,16.5],[65,25],color=linecolor)\n",
        "    plt.plot([0,16.5],[65,65],color=linecolor)\n",
        "    plt.plot([16.5,0],[25,25],color=linecolor)\n",
        "    \n",
        "    #Right Penalty Area\n",
        "    plt.plot([130,113.5],[65,65],color=linecolor)\n",
        "    plt.plot([113.5,113.5],[65,25],color=linecolor)\n",
        "    plt.plot([113.5,130],[25,25],color=linecolor)\n",
        "    \n",
        "    #Left 6-yard Box\n",
        "    plt.plot([0,5.5],[54,54],color=linecolor)\n",
        "    plt.plot([5.5,5.5],[54,36],color=linecolor)\n",
        "    plt.plot([5.5,0.5],[36,36],color=linecolor)\n",
        "    \n",
        "    #Right 6-yard Box\n",
        "    plt.plot([130,124.5],[54,54],color=linecolor)\n",
        "    plt.plot([124.5,124.5],[54,36],color=linecolor)\n",
        "    plt.plot([124.5,130],[36,36],color=linecolor)\n",
        "    \n",
        "    #Prepare Circles\n",
        "    centreCircle = plt.Circle((65,45),9.15,color=linecolor,fill=False)\n",
        "    centreSpot = plt.Circle((65,45),0.8,color=linecolor)\n",
        "    leftPenSpot = plt.Circle((11,45),0.8,color=linecolor)\n",
        "    rightPenSpot = plt.Circle((119,45),0.8,color=linecolor)\n",
        "    \n",
        "    #Draw Circles\n",
        "    ax.add_patch(centreCircle)\n",
        "    ax.add_patch(centreSpot)\n",
        "    ax.add_patch(leftPenSpot)\n",
        "    ax.add_patch(rightPenSpot)\n",
        "    \n",
        "    #Prepare Arcs\n",
        "    leftArc = Arc((11,45),height=18.3,width=18.3,angle=0,theta1=310,theta2=50,color=linecolor)\n",
        "    rightArc = Arc((119,45),height=18.3,width=18.3,angle=0,theta1=130,theta2=230,color=linecolor)\n",
        "\n",
        "    #Draw Arcs\n",
        "    ax.add_patch(leftArc)\n",
        "    ax.add_patch(rightArc)\n",
        "    \n",
        "    #Tidy Axes\n",
        "    plt.axis('off')\n",
        "    \n",
        "    return fig,ax\n",
        "\n",
        "def createGoalMouth():\n",
        "    #Adopted from FC Python\n",
        "    #Create figure\n",
        "    fig=plt.figure()\n",
        "    ax=fig.add_subplot(1,1,1)\n",
        "\n",
        "    linecolor='black'\n",
        "\n",
        "    #Pitch Outline & Centre Line\n",
        "    plt.plot([0,65],[0,0], color=linecolor)\n",
        "    plt.plot([65,65],[50,0], color=linecolor)\n",
        "    plt.plot([0,0],[50,0], color=linecolor)\n",
        "    \n",
        "    #Left Penalty Area\n",
        "    plt.plot([12.5,52.5],[16.5,16.5],color=linecolor)\n",
        "    plt.plot([52.5,52.5],[16.5,0],color=linecolor)\n",
        "    plt.plot([12.5,12.5],[0,16.5],color=linecolor)\n",
        "    \n",
        "    #Left 6-yard Box\n",
        "    plt.plot([41.5,41.5],[5.5,0],color=linecolor)\n",
        "    plt.plot([23.5,41.5],[5.5,5.5],color=linecolor)\n",
        "    plt.plot([23.5,23.5],[0,5.5],color=linecolor)\n",
        "    \n",
        "    #Goal\n",
        "    plt.plot([41.5-5.34,41.5-5.34],[-2,0],color=linecolor)\n",
        "    plt.plot([23.5+5.34,41.5-5.34],[-2,-2],color=linecolor)\n",
        "    plt.plot([23.5+5.34,23.5+5.34],[0,-2],color=linecolor)\n",
        "    \n",
        "    #Prepare Circles\n",
        "    leftPenSpot = plt.Circle((65/2,11),0.8,color=linecolor)\n",
        "    \n",
        "    #Draw Circles\n",
        "    ax.add_patch(leftPenSpot)\n",
        "    \n",
        "    #Prepare Arcs\n",
        "    leftArc = Arc((32.5,11),height=18.3,width=18.3,angle=0,theta1=38,theta2=142,color=linecolor)\n",
        "    \n",
        "    #Draw Arcs\n",
        "    ax.add_patch(leftArc)\n",
        "    \n",
        "    #Tidy Axes\n",
        "    plt.axis('off')\n",
        "    \n",
        "    return fig,ax\n"
      ],
      "execution_count": null,
      "outputs": []
    },
    {
      "cell_type": "code",
      "metadata": {
        "colab": {
          "base_uri": "https://localhost:8080/",
          "height": 204
        },
        "id": "e781HYmXH_UV",
        "outputId": "2d054432-9542-4e05-c164-047ab9261bde"
      },
      "source": [
        "rawEvents.head()"
      ],
      "execution_count": null,
      "outputs": [
        {
          "output_type": "execute_result",
          "data": {
            "text/html": [
              "<div>\n",
              "<style scoped>\n",
              "    .dataframe tbody tr th:only-of-type {\n",
              "        vertical-align: middle;\n",
              "    }\n",
              "\n",
              "    .dataframe tbody tr th {\n",
              "        vertical-align: top;\n",
              "    }\n",
              "\n",
              "    .dataframe thead th {\n",
              "        text-align: right;\n",
              "    }\n",
              "</style>\n",
              "<table border=\"1\" class=\"dataframe\">\n",
              "  <thead>\n",
              "    <tr style=\"text-align: right;\">\n",
              "      <th></th>\n",
              "      <th>Team</th>\n",
              "      <th>Type</th>\n",
              "      <th>Subtype</th>\n",
              "      <th>Period</th>\n",
              "      <th>Start Frame</th>\n",
              "      <th>Start Time [s]</th>\n",
              "      <th>End Frame</th>\n",
              "      <th>End Time [s]</th>\n",
              "      <th>From</th>\n",
              "      <th>To</th>\n",
              "      <th>Start X</th>\n",
              "      <th>Start Y</th>\n",
              "      <th>End X</th>\n",
              "      <th>End Y</th>\n",
              "    </tr>\n",
              "  </thead>\n",
              "  <tbody>\n",
              "    <tr>\n",
              "      <th>0</th>\n",
              "      <td>Away</td>\n",
              "      <td>SET PIECE</td>\n",
              "      <td>KICK OFF</td>\n",
              "      <td>1</td>\n",
              "      <td>51</td>\n",
              "      <td>2.04</td>\n",
              "      <td>51</td>\n",
              "      <td>2.04</td>\n",
              "      <td>Player23</td>\n",
              "      <td>NaN</td>\n",
              "      <td>NaN</td>\n",
              "      <td>NaN</td>\n",
              "      <td>NaN</td>\n",
              "      <td>NaN</td>\n",
              "    </tr>\n",
              "    <tr>\n",
              "      <th>1</th>\n",
              "      <td>Away</td>\n",
              "      <td>PASS</td>\n",
              "      <td>NaN</td>\n",
              "      <td>1</td>\n",
              "      <td>51</td>\n",
              "      <td>2.04</td>\n",
              "      <td>87</td>\n",
              "      <td>3.48</td>\n",
              "      <td>Player23</td>\n",
              "      <td>Player20</td>\n",
              "      <td>0.50</td>\n",
              "      <td>0.50</td>\n",
              "      <td>0.40</td>\n",
              "      <td>0.51</td>\n",
              "    </tr>\n",
              "    <tr>\n",
              "      <th>2</th>\n",
              "      <td>Away</td>\n",
              "      <td>PASS</td>\n",
              "      <td>NaN</td>\n",
              "      <td>1</td>\n",
              "      <td>146</td>\n",
              "      <td>5.84</td>\n",
              "      <td>186</td>\n",
              "      <td>7.44</td>\n",
              "      <td>Player20</td>\n",
              "      <td>Player18</td>\n",
              "      <td>0.43</td>\n",
              "      <td>0.50</td>\n",
              "      <td>0.44</td>\n",
              "      <td>0.22</td>\n",
              "    </tr>\n",
              "    <tr>\n",
              "      <th>3</th>\n",
              "      <td>Away</td>\n",
              "      <td>PASS</td>\n",
              "      <td>NaN</td>\n",
              "      <td>1</td>\n",
              "      <td>248</td>\n",
              "      <td>9.92</td>\n",
              "      <td>283</td>\n",
              "      <td>11.32</td>\n",
              "      <td>Player18</td>\n",
              "      <td>Player17</td>\n",
              "      <td>0.47</td>\n",
              "      <td>0.19</td>\n",
              "      <td>0.31</td>\n",
              "      <td>0.28</td>\n",
              "    </tr>\n",
              "    <tr>\n",
              "      <th>4</th>\n",
              "      <td>Away</td>\n",
              "      <td>PASS</td>\n",
              "      <td>NaN</td>\n",
              "      <td>1</td>\n",
              "      <td>316</td>\n",
              "      <td>12.64</td>\n",
              "      <td>346</td>\n",
              "      <td>13.84</td>\n",
              "      <td>Player17</td>\n",
              "      <td>Player16</td>\n",
              "      <td>0.29</td>\n",
              "      <td>0.32</td>\n",
              "      <td>0.26</td>\n",
              "      <td>0.58</td>\n",
              "    </tr>\n",
              "  </tbody>\n",
              "</table>\n",
              "</div>"
            ],
            "text/plain": [
              "   Team       Type   Subtype  Period  ...  Start X  Start Y  End X  End Y\n",
              "0  Away  SET PIECE  KICK OFF       1  ...      NaN      NaN    NaN    NaN\n",
              "1  Away       PASS       NaN       1  ...     0.50     0.50   0.40   0.51\n",
              "2  Away       PASS       NaN       1  ...     0.43     0.50   0.44   0.22\n",
              "3  Away       PASS       NaN       1  ...     0.47     0.19   0.31   0.28\n",
              "4  Away       PASS       NaN       1  ...     0.29     0.32   0.26   0.58\n",
              "\n",
              "[5 rows x 14 columns]"
            ]
          },
          "metadata": {
            "tags": []
          },
          "execution_count": 5
        }
      ]
    },
    {
      "cell_type": "code",
      "metadata": {
        "colab": {
          "base_uri": "https://localhost:8080/"
        },
        "id": "HNs7ym0EICaM",
        "outputId": "d3400b43-0773-41a7-bea7-872e9061f36a"
      },
      "source": [
        "# lets get the type and subtype dict\n",
        "typeDict = {}\n",
        "for i in rawEvents[\"Type\"].unique():\n",
        "    typeDict[i] = []\n",
        "typeDict"
      ],
      "execution_count": null,
      "outputs": [
        {
          "output_type": "execute_result",
          "data": {
            "text/plain": [
              "{'BALL LOST': [],\n",
              " 'BALL OUT': [],\n",
              " 'CARD': [],\n",
              " 'CHALLENGE': [],\n",
              " 'FAULT RECEIVED': [],\n",
              " 'PASS': [],\n",
              " 'RECOVERY': [],\n",
              " 'SET PIECE': [],\n",
              " 'SHOT': []}"
            ]
          },
          "metadata": {
            "tags": []
          },
          "execution_count": 6
        }
      ]
    },
    {
      "cell_type": "code",
      "metadata": {
        "id": "YIjwIBOeIV18"
      },
      "source": [
        "for i,p in rawEvents.iterrows():\n",
        "    if (p[\"Subtype\"] not in typeDict[p[\"Type\"]]) and type(p[\"Subtype\"]) != float:\n",
        "        #print(p[\"Subtype\"])\n",
        "        typeDict[p[\"Type\"]].append(p[\"Subtype\"])"
      ],
      "execution_count": null,
      "outputs": []
    },
    {
      "cell_type": "code",
      "metadata": {
        "colab": {
          "base_uri": "https://localhost:8080/"
        },
        "id": "ZtuUApBUKL1j",
        "outputId": "7b2da7cd-6d31-486f-e599-44fa2cb5d29c"
      },
      "source": [
        "pprint.pprint(typeDict)"
      ],
      "execution_count": null,
      "outputs": [
        {
          "output_type": "stream",
          "text": [
            "{'BALL LOST': ['INTERCEPTION',\n",
            "               'HEAD-INTERCEPTION',\n",
            "               'HEAD',\n",
            "               'THEFT',\n",
            "               'GOAL KICK-INTERCEPTION',\n",
            "               'OFFSIDE',\n",
            "               'CLEARANCE',\n",
            "               'CROSS-INTERCEPTION',\n",
            "               'FORCED',\n",
            "               'FORCED-END HALF',\n",
            "               'HAND BALL',\n",
            "               'CLEARANCE-INTERCEPTION'],\n",
            " 'BALL OUT': ['HEAD', 'CLEARANCE', 'HEAD-CLEARANCE', 'CROSS'],\n",
            " 'CARD': ['YELLOW'],\n",
            " 'CHALLENGE': ['GROUND-LOST',\n",
            "               'GROUND-WON',\n",
            "               'AERIAL-WON',\n",
            "               'AERIAL-LOST',\n",
            "               'TACKLE-LOST',\n",
            "               'AERIAL-FAULT-WON',\n",
            "               'AERIAL-FAULT-LOST',\n",
            "               'TACKLE-WON',\n",
            "               'GROUND-FAULT-LOST',\n",
            "               'GROUND-FAULT-WON',\n",
            "               'GROUND-ADVANTAGE-LOST',\n",
            "               'GROUND-ADVANTAGE-WON',\n",
            "               'TACKLE-FAULT-LOST',\n",
            "               'TACKLE-FAULT-WON',\n",
            "               'TACKLE-ADVANTAGE-WON',\n",
            "               'GROUND',\n",
            "               'FAULT-WON',\n",
            "               'TACKLE-ADVANTAGE-LOST',\n",
            "               'DRIBBLE-WON'],\n",
            " 'FAULT RECEIVED': [],\n",
            " 'PASS': ['HEAD',\n",
            "          'CROSS',\n",
            "          'DEEP BALL',\n",
            "          'GOAL KICK',\n",
            "          'HEAD-INTERCEPTION-CLEARANCE'],\n",
            " 'RECOVERY': ['INTERCEPTION', 'THEFT', 'SAVED', 'BLOCKED'],\n",
            " 'SET PIECE': ['KICK OFF',\n",
            "               'THROW IN',\n",
            "               'FREE KICK',\n",
            "               'CORNER KICK',\n",
            "               'KICK OFF-RETAKEN',\n",
            "               'FREE KICK-RETAKEN',\n",
            "               'PENALTY'],\n",
            " 'SHOT': ['OFF TARGET-OUT',\n",
            "          'ON TARGET-GOAL',\n",
            "          'ON TARGET-SAVED',\n",
            "          'BLOCKED',\n",
            "          'HEAD-OFF TARGET-OUT',\n",
            "          'OFF TARGET-HEAD-OUT',\n",
            "          'HEAD-ON TARGET-GOAL']}\n"
          ],
          "name": "stdout"
        }
      ]
    },
    {
      "cell_type": "markdown",
      "metadata": {
        "id": "7yh5Uf8APawB"
      },
      "source": [
        "# Laurie on tracking"
      ]
    },
    {
      "cell_type": "code",
      "metadata": {
        "colab": {
          "base_uri": "https://localhost:8080/"
        },
        "id": "GSveXviXLS0u",
        "outputId": "0b6146b1-3a97-4e4b-c2eb-f2dbfd0c4f73"
      },
      "source": [
        "import sys\n",
        "sys.path.insert(1, '/content/drive/My Drive/Football/LaurieOnTracking')\n",
        "\n",
        "from Metrica_IO import *\n",
        "game_id = 2\n",
        "teamname = \"Away\"\n",
        "\n",
        "trackingAway = tracking_data(DATA_PATH,game_id,teamname)"
      ],
      "execution_count": null,
      "outputs": [
        {
          "output_type": "stream",
          "text": [
            "Reading team: away\n"
          ],
          "name": "stdout"
        }
      ]
    },
    {
      "cell_type": "code",
      "metadata": {
        "colab": {
          "base_uri": "https://localhost:8080/",
          "height": 272
        },
        "id": "NNSqSXi1TWCv",
        "outputId": "ee326824-5884-4b35-e859-adf555effe11"
      },
      "source": [
        "trackingAway.head()"
      ],
      "execution_count": null,
      "outputs": [
        {
          "output_type": "execute_result",
          "data": {
            "text/html": [
              "<div>\n",
              "<style scoped>\n",
              "    .dataframe tbody tr th:only-of-type {\n",
              "        vertical-align: middle;\n",
              "    }\n",
              "\n",
              "    .dataframe tbody tr th {\n",
              "        vertical-align: top;\n",
              "    }\n",
              "\n",
              "    .dataframe thead th {\n",
              "        text-align: right;\n",
              "    }\n",
              "</style>\n",
              "<table border=\"1\" class=\"dataframe\">\n",
              "  <thead>\n",
              "    <tr style=\"text-align: right;\">\n",
              "      <th></th>\n",
              "      <th>Period</th>\n",
              "      <th>Time [s]</th>\n",
              "      <th>Away_25_x</th>\n",
              "      <th>Away_25_y</th>\n",
              "      <th>Away_15_x</th>\n",
              "      <th>Away_15_y</th>\n",
              "      <th>Away_16_x</th>\n",
              "      <th>Away_16_y</th>\n",
              "      <th>Away_17_x</th>\n",
              "      <th>Away_17_y</th>\n",
              "      <th>Away_18_x</th>\n",
              "      <th>Away_18_y</th>\n",
              "      <th>Away_19_x</th>\n",
              "      <th>Away_19_y</th>\n",
              "      <th>Away_20_x</th>\n",
              "      <th>Away_20_y</th>\n",
              "      <th>Away_21_x</th>\n",
              "      <th>Away_21_y</th>\n",
              "      <th>Away_22_x</th>\n",
              "      <th>Away_22_y</th>\n",
              "      <th>Away_23_x</th>\n",
              "      <th>Away_23_y</th>\n",
              "      <th>Away_24_x</th>\n",
              "      <th>Away_24_y</th>\n",
              "      <th>Away_26_x</th>\n",
              "      <th>Away_26_y</th>\n",
              "      <th>ball_x</th>\n",
              "      <th>ball_y</th>\n",
              "    </tr>\n",
              "    <tr>\n",
              "      <th>Frame</th>\n",
              "      <th></th>\n",
              "      <th></th>\n",
              "      <th></th>\n",
              "      <th></th>\n",
              "      <th></th>\n",
              "      <th></th>\n",
              "      <th></th>\n",
              "      <th></th>\n",
              "      <th></th>\n",
              "      <th></th>\n",
              "      <th></th>\n",
              "      <th></th>\n",
              "      <th></th>\n",
              "      <th></th>\n",
              "      <th></th>\n",
              "      <th></th>\n",
              "      <th></th>\n",
              "      <th></th>\n",
              "      <th></th>\n",
              "      <th></th>\n",
              "      <th></th>\n",
              "      <th></th>\n",
              "      <th></th>\n",
              "      <th></th>\n",
              "      <th></th>\n",
              "      <th></th>\n",
              "      <th></th>\n",
              "      <th></th>\n",
              "    </tr>\n",
              "  </thead>\n",
              "  <tbody>\n",
              "    <tr>\n",
              "      <th>1</th>\n",
              "      <td>1</td>\n",
              "      <td>0.04</td>\n",
              "      <td>0.01218</td>\n",
              "      <td>0.51763</td>\n",
              "      <td>0.32891</td>\n",
              "      <td>0.81846</td>\n",
              "      <td>0.30734</td>\n",
              "      <td>0.55182</td>\n",
              "      <td>0.32235</td>\n",
              "      <td>0.38954</td>\n",
              "      <td>0.36505</td>\n",
              "      <td>0.31049</td>\n",
              "      <td>0.49564</td>\n",
              "      <td>0.91364</td>\n",
              "      <td>0.39812</td>\n",
              "      <td>0.47218</td>\n",
              "      <td>0.43313</td>\n",
              "      <td>0.31354</td>\n",
              "      <td>0.49889</td>\n",
              "      <td>-0.02263</td>\n",
              "      <td>0.50177</td>\n",
              "      <td>0.50145</td>\n",
              "      <td>0.49517</td>\n",
              "      <td>0.36234</td>\n",
              "      <td>NaN</td>\n",
              "      <td>NaN</td>\n",
              "      <td>NaN</td>\n",
              "      <td>NaN</td>\n",
              "    </tr>\n",
              "    <tr>\n",
              "      <th>2</th>\n",
              "      <td>1</td>\n",
              "      <td>0.08</td>\n",
              "      <td>0.01218</td>\n",
              "      <td>0.51763</td>\n",
              "      <td>0.32891</td>\n",
              "      <td>0.81846</td>\n",
              "      <td>0.30734</td>\n",
              "      <td>0.55182</td>\n",
              "      <td>0.32235</td>\n",
              "      <td>0.38954</td>\n",
              "      <td>0.36505</td>\n",
              "      <td>0.31049</td>\n",
              "      <td>0.49564</td>\n",
              "      <td>0.91364</td>\n",
              "      <td>0.39812</td>\n",
              "      <td>0.47218</td>\n",
              "      <td>0.43313</td>\n",
              "      <td>0.31354</td>\n",
              "      <td>0.49889</td>\n",
              "      <td>-0.02263</td>\n",
              "      <td>0.50177</td>\n",
              "      <td>0.50145</td>\n",
              "      <td>0.49517</td>\n",
              "      <td>0.36234</td>\n",
              "      <td>NaN</td>\n",
              "      <td>NaN</td>\n",
              "      <td>NaN</td>\n",
              "      <td>NaN</td>\n",
              "    </tr>\n",
              "    <tr>\n",
              "      <th>3</th>\n",
              "      <td>1</td>\n",
              "      <td>0.12</td>\n",
              "      <td>0.01218</td>\n",
              "      <td>0.51763</td>\n",
              "      <td>0.32891</td>\n",
              "      <td>0.81846</td>\n",
              "      <td>0.30734</td>\n",
              "      <td>0.55182</td>\n",
              "      <td>0.32235</td>\n",
              "      <td>0.38954</td>\n",
              "      <td>0.36505</td>\n",
              "      <td>0.31049</td>\n",
              "      <td>0.49564</td>\n",
              "      <td>0.91364</td>\n",
              "      <td>0.39812</td>\n",
              "      <td>0.47218</td>\n",
              "      <td>0.43313</td>\n",
              "      <td>0.31354</td>\n",
              "      <td>0.49889</td>\n",
              "      <td>-0.02263</td>\n",
              "      <td>0.50177</td>\n",
              "      <td>0.50145</td>\n",
              "      <td>0.49517</td>\n",
              "      <td>0.36234</td>\n",
              "      <td>NaN</td>\n",
              "      <td>NaN</td>\n",
              "      <td>NaN</td>\n",
              "      <td>NaN</td>\n",
              "    </tr>\n",
              "    <tr>\n",
              "      <th>4</th>\n",
              "      <td>1</td>\n",
              "      <td>0.16</td>\n",
              "      <td>0.01218</td>\n",
              "      <td>0.51763</td>\n",
              "      <td>0.32836</td>\n",
              "      <td>0.81847</td>\n",
              "      <td>0.30734</td>\n",
              "      <td>0.55182</td>\n",
              "      <td>0.32235</td>\n",
              "      <td>0.38954</td>\n",
              "      <td>0.36505</td>\n",
              "      <td>0.31049</td>\n",
              "      <td>0.49564</td>\n",
              "      <td>0.91364</td>\n",
              "      <td>0.39812</td>\n",
              "      <td>0.47218</td>\n",
              "      <td>0.43313</td>\n",
              "      <td>0.31354</td>\n",
              "      <td>0.49889</td>\n",
              "      <td>-0.02263</td>\n",
              "      <td>0.50177</td>\n",
              "      <td>0.50145</td>\n",
              "      <td>0.49517</td>\n",
              "      <td>0.36234</td>\n",
              "      <td>NaN</td>\n",
              "      <td>NaN</td>\n",
              "      <td>NaN</td>\n",
              "      <td>NaN</td>\n",
              "    </tr>\n",
              "    <tr>\n",
              "      <th>5</th>\n",
              "      <td>1</td>\n",
              "      <td>0.20</td>\n",
              "      <td>0.01218</td>\n",
              "      <td>0.51763</td>\n",
              "      <td>0.32783</td>\n",
              "      <td>0.81847</td>\n",
              "      <td>0.30734</td>\n",
              "      <td>0.55182</td>\n",
              "      <td>0.32235</td>\n",
              "      <td>0.38954</td>\n",
              "      <td>0.36505</td>\n",
              "      <td>0.31049</td>\n",
              "      <td>0.49564</td>\n",
              "      <td>0.91364</td>\n",
              "      <td>0.39812</td>\n",
              "      <td>0.47218</td>\n",
              "      <td>0.43313</td>\n",
              "      <td>0.31354</td>\n",
              "      <td>0.49889</td>\n",
              "      <td>-0.02263</td>\n",
              "      <td>0.50177</td>\n",
              "      <td>0.50145</td>\n",
              "      <td>0.49517</td>\n",
              "      <td>0.36234</td>\n",
              "      <td>NaN</td>\n",
              "      <td>NaN</td>\n",
              "      <td>NaN</td>\n",
              "      <td>NaN</td>\n",
              "    </tr>\n",
              "  </tbody>\n",
              "</table>\n",
              "</div>"
            ],
            "text/plain": [
              "       Period  Time [s]  Away_25_x  ...  Away_26_y  ball_x  ball_y\n",
              "Frame                               ...                           \n",
              "1           1      0.04    0.01218  ...        NaN     NaN     NaN\n",
              "2           1      0.08    0.01218  ...        NaN     NaN     NaN\n",
              "3           1      0.12    0.01218  ...        NaN     NaN     NaN\n",
              "4           1      0.16    0.01218  ...        NaN     NaN     NaN\n",
              "5           1      0.20    0.01218  ...        NaN     NaN     NaN\n",
              "\n",
              "[5 rows x 28 columns]"
            ]
          },
          "metadata": {
            "tags": []
          },
          "execution_count": 10
        }
      ]
    },
    {
      "cell_type": "code",
      "metadata": {
        "colab": {
          "base_uri": "https://localhost:8080/"
        },
        "id": "7m2narN85dMX",
        "outputId": "ab561abf-1211-4166-f178-6d4bbf315563"
      },
      "source": [
        "f = open(DATA_PATH+\"Sample_Game_2/Sample_Game_2_RawTrackingData_Away_Team.csv\", \"r\")\n",
        "for i in range(5):\n",
        "    print(f.readline())"
      ],
      "execution_count": null,
      "outputs": [
        {
          "output_type": "stream",
          "text": [
            ",,,Away,,Away,,Away,,Away,,Away,,Away,,Away,,Away,,Away,,Away,,Away,,Away,,,\n",
            "\n",
            ",,,25,,15,,16,,17,,18,,19,,20,,21,,22,,23,,24,,26,,,\n",
            "\n",
            "Period,Frame,Time [s],Player25,,Player15,,Player16,,Player17,,Player18,,Player19,,Player20,,Player21,,Player22,,Player23,,Player24,,Player 26,,Ball,\n",
            "\n",
            "1,1,0.04,0.01218,0.51763,0.32891,0.81846,0.30734,0.55182,0.32235,0.38954,0.36505,0.31049,0.49564,0.91364,0.39812,0.47218,0.43313,0.31354,0.49889,-0.02263,0.50177,0.50145,0.49517,0.36234,NaN,NaN,NaN,NaN\n",
            "\n",
            "1,2,0.08,0.01218,0.51763,0.32891,0.81846,0.30734,0.55182,0.32235,0.38954,0.36505,0.31049,0.49564,0.91364,0.39812,0.47218,0.43313,0.31354,0.49889,-0.02263,0.50177,0.50145,0.49517,0.36234,NaN,NaN,NaN,NaN\n",
            "\n"
          ],
          "name": "stdout"
        }
      ]
    },
    {
      "cell_type": "code",
      "metadata": {
        "id": "3DYknzn65nLY"
      },
      "source": [
        "# from here\n",
        "df = pd.read_csv(DATA_PATH+\"Sample_Game_2/Sample_Game_2_RawTrackingData_Away_Team.csv\",skiprows=2)\n",
        "new_name = []\n",
        "names = df.columns\n",
        "for i,v in enumerate(names):\n",
        "    if \"Unnamed\" in v:\n",
        "        new_name.append(names[i-1]+\"_y\")\n",
        "    elif \"Player\" in v:\n",
        "        new_name.append(v+\"_x\")\n",
        "    elif \"Ball\" in v:\n",
        "        new_name.append(v+\"_x\")\n",
        "        new_name.append(v+\"_y\")\n",
        "        break\n",
        "    else:\n",
        "        new_name.append(v)\n",
        "df = pd.read_csv(DATA_PATH+\"Sample_Game_2/Sample_Game_2_RawTrackingData_Away_Team.csv\",skiprows=3,names=new_name)"
      ],
      "execution_count": null,
      "outputs": []
    },
    {
      "cell_type": "code",
      "metadata": {
        "colab": {
          "base_uri": "https://localhost:8080/"
        },
        "id": "i4W2Iz0r6mIL",
        "outputId": "a304d959-9e40-4867-bda7-ccadedd83470"
      },
      "source": [
        "# transform in 1st quaderant\n",
        "pitchLenX = 120\n",
        "pitchWidY = 80\n",
        "\n",
        "def transform_co(n,x):\n",
        "    if n[-2:]==\"_x\":\n",
        "        return pitchLenX*x\n",
        "    elif n[-2:]==\"_y\":\n",
        "        return pitchWidY*x\n",
        "    else:\n",
        "        return x\n",
        "df = df.apply(lambda x: transform_co(x.name,x))\n",
        "df.shape"
      ],
      "execution_count": null,
      "outputs": [
        {
          "output_type": "execute_result",
          "data": {
            "text/plain": [
              "(141156, 29)"
            ]
          },
          "metadata": {
            "tags": []
          },
          "execution_count": 13
        }
      ]
    },
    {
      "cell_type": "code",
      "metadata": {
        "id": "2G-LtIbfFEe7"
      },
      "source": [
        "#instant = df.to_dict(orient='records')\n",
        "instant = df.iloc[1000]\n",
        "#print(instant)\n",
        "col_x = [i for i in new_name if i[-2:]==\"_x\"]\n",
        "col_y = [i for i in new_name if i[-2:]==\"_y\"]\n",
        "\n",
        "players = tuple(zip(col_x,col_y))"
      ],
      "execution_count": null,
      "outputs": []
    },
    {
      "cell_type": "code",
      "metadata": {
        "colab": {
          "base_uri": "https://localhost:8080/",
          "height": 602
        },
        "id": "37smjfQHFJGa",
        "outputId": "349aa24f-09db-413e-c0b9-6352a133917b"
      },
      "source": [
        "(fig,ax) = createPitch(pitchLenX,pitchWidY,\"yards\",\"grey\")\n",
        "for i in players:\n",
        "    #print(instant[i[0]])\n",
        "    if \"Ball\" in i[0]:\n",
        "        shotCircle = plt.Circle((instant[i[0]],instant[i[1]]),0.7,color=\"blue\")\n",
        "    else:\n",
        "        shotCircle = plt.Circle((instant[i[0]],instant[i[1]]),0.5,color=\"red\")\n",
        "    ax.add_patch(shotCircle)\n",
        "fig.set_size_inches(15, 10.5)"
      ],
      "execution_count": null,
      "outputs": [
        {
          "output_type": "display_data",
          "data": {
            "image/png": "[encoded data removed]",
            "text/plain": [
              "<Figure size 1080x756 with 1 Axes>"
            ]
          },
          "metadata": {
            "tags": [],
            "needs_background": "light"
          }
        }
      ]
    },
    {
      "cell_type": "markdown",
      "metadata": {
        "id": "PUgDvhrsLnL6"
      },
      "source": [
        "# animation"
      ]
    },
    {
      "cell_type": "code",
      "metadata": {
        "colab": {
          "base_uri": "https://localhost:8080/",
          "height": 602
        },
        "id": "S8b7utp4KGTr",
        "outputId": "d91a43d9-a213-472a-97ab-979fc44fe5c9"
      },
      "source": [
        "(fig,ax) = createPitch(pitchLenX,pitchWidY,\"yards\",\"grey\")\n",
        "fig.set_size_inches(15, 10.5)\n",
        "instant = df.iloc[1]\n",
        "tup = []\n",
        "for i in players:\n",
        "    #print(instant[i[0]])\n",
        "    if \"Ball\" in i[0]:\n",
        "        shotCircle = plt.Circle((instant[i[0]],instant[i[1]]),0.7,color=\"blue\")\n",
        "    else:\n",
        "        shotCircle = plt.Circle((instant[i[0]],instant[i[1]]),0.5,color=\"red\")\n",
        "    #ax.add_patch(shotCircle)\n",
        "    tup.append(shotCircle)\n",
        "\n",
        "def init():\n",
        "    instant = df.iloc[1]\n",
        "    for pos,i in enumerate(players):\n",
        "        #print(instant[i[0]])\n",
        "        if \"Ball\" in i[0]:\n",
        "            tup[pos].center = (instant[i[0]], instant[i[1]])\n",
        "            tup[pos].color = \"blue\"\n",
        "            #shotCircle = plt.Circle((instant[i[0]],instant[i[1]]),0.7,color=\"blue\")\n",
        "        else:\n",
        "            tup[pos].center = (instant[i[0]], instant[i[1]])\n",
        "            tup[pos].color = \"red\"\n",
        "            #shotCircle = plt.Circle((instant[i[0]],instant[i[1]]),0.5,color=\"red\")\n",
        "        ax.add_patch(tup[pos])\n",
        "    #print(tup)\n",
        "    return tup\n",
        "\n",
        "def update_frame(i):\n",
        "    instant = df.iloc[i]\n",
        "    #print(instant)\n",
        "    #print(i)\n",
        "    for pos,i in enumerate(players):\n",
        "        if \"Ball\" in i[0]:\n",
        "            tup[pos].center = (instant[i[0]], instant[i[1]])\n",
        "            tup[pos].color = \"blue\"\n",
        "            #shotCircle = plt.Circle((instant[i[0]],instant[i[1]]),0.7,color=\"blue\")\n",
        "        else:\n",
        "            tup[pos].center = (instant[i[0]], instant[i[1]])\n",
        "            tup[pos].color = \"red\"\n",
        "            #shotCircle = plt.Circle((instant[i[0]],instant[i[1]]),0.5,color=\"red\")\n",
        "        #ax.add_patch(shotCircle)\n",
        "    #print(tup)\n",
        "    return tup\n",
        "\n",
        "anim = animation.FuncAnimation(fig, update_frame,init_func=init,\n",
        "                               frames=500,\n",
        "                               interval=20,\n",
        "                               repeat=True)\n",
        "plt.show()"
      ],
      "execution_count": null,
      "outputs": [
        {
          "output_type": "display_data",
          "data": {
            "image/png": "[encoded data removed]",
            "text/plain": [
              "<Figure size 1080x756 with 1 Axes>"
            ]
          },
          "metadata": {
            "tags": [],
            "needs_background": "light"
          }
        }
      ]
    },
    {
      "cell_type": "code",
      "metadata": {
        "id": "RBzg3jvnddfP"
      },
      "source": [
        "anim.save('animation.mp4', fps=30, \n",
        "          extra_args=['-vcodec', 'h264', \n",
        "                      '-pix_fmt', 'yuv420p'])"
      ],
      "execution_count": null,
      "outputs": []
    },
    {
      "cell_type": "code",
      "metadata": {
        "id": "miPCmMkfx7Zx"
      },
      "source": [
        ""
      ],
      "execution_count": null,
      "outputs": []
    }
  ]
}